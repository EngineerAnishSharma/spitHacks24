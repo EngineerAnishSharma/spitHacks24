{
 "cells": [
  {
   "cell_type": "code",
   "execution_count": 1,
   "id": "7cf4e1cc-e210-4eb5-9434-574b07de2613",
   "metadata": {},
   "outputs": [
    {
     "name": "stdout",
     "output_type": "stream",
     "text": [
      "Accuracy score= 0.8333333333333334\n",
      "id       class\n",
      "srishtinene_    ------>   neutral\n",
      "gautammannan    ------>   topfans\n",
      "samrudhiyeginwar    ------>   neutral\n",
      "shivinidixit_    ------>   topfans\n",
      "poorvz_    ------>   fans\n",
      "travuersa29    ------>   neutral\n",
      "rahulsingh0512    ------>   neutral\n",
      "shreyan_1629    ------>   neutral\n",
      "bhavyaguptaa_    ------>   topfans\n",
      "_atharva    ------>   topfans\n"
     ]
    }
   ],
   "source": [
    "import pandas as pd\n",
    "df=pd.read_csv(\"instadata.csv\")\n",
    "\n",
    "df.head()\n",
    "\n",
    "#SVM\n",
    "x=df.drop(\"label\", axis=1)\n",
    "x=x.drop(\"location\", axis=1)\n",
    "x=x.drop(\"gender\",axis=1)\n",
    "x=x.drop(\"id\",axis=1)\n",
    "y=df[\"label\"]\n",
    "\n",
    "from sklearn.model_selection import train_test_split\n",
    "x_train,x_test,y_train, y_test = train_test_split(x,y, test_size=0.4)\n",
    "z=list(y_train)\n",
    "ytest=list(y_test)\n",
    "\n",
    "from sklearn.svm import SVC\n",
    "from sklearn.metrics import accuracy_score\n",
    "\n",
    "svclassifier = SVC(kernel='linear')\n",
    "svclassifier.fit(x_train,z)\n",
    "output=list(svclassifier.predict(x_test))\n",
    "output\n",
    "\n",
    "accs=accuracy_score(ytest,output)\n",
    "print(\"Accuracy score=\", accs)\n",
    "\n",
    "\n",
    "#Testing Unknown Data\n",
    "df1=pd.read_csv(\"instatest.csv\")\n",
    "\n",
    "p=df1.drop(\"location\", axis=1)\n",
    "p=p.drop(\"gender\",axis=1)\n",
    "p=p.drop(\"id\",axis=1)\n",
    "\n",
    "output=list(svclassifier.predict(p))\n",
    "predicted=list(output)\n",
    "\n",
    "ids=list(df1[\"id\"])\n",
    "print(\"id       class\");\n",
    "\n",
    "for x in range(0,len(predicted)):\n",
    "    print(ids[x] +\"    ------>   \" +predicted[x])"
   ]
  },
  {
   "cell_type": "code",
   "execution_count": 1,
   "id": "361556e1-f7fb-45c3-b6fb-c08512622c08",
   "metadata": {},
   "outputs": [
    {
     "data": {
      "text/html": [
       "<div>\n",
       "<style scoped>\n",
       "    .dataframe tbody tr th:only-of-type {\n",
       "        vertical-align: middle;\n",
       "    }\n",
       "\n",
       "    .dataframe tbody tr th {\n",
       "        vertical-align: top;\n",
       "    }\n",
       "\n",
       "    .dataframe thead th {\n",
       "        text-align: right;\n",
       "    }\n",
       "</style>\n",
       "<table border=\"1\" class=\"dataframe\">\n",
       "  <thead>\n",
       "    <tr style=\"text-align: right;\">\n",
       "      <th></th>\n",
       "      <th>id</th>\n",
       "      <th>count</th>\n",
       "      <th>gender</th>\n",
       "      <th>location</th>\n",
       "      <th>age</th>\n",
       "      <th>label</th>\n",
       "      <th>locationcode</th>\n",
       "      <th>gendercode</th>\n",
       "    </tr>\n",
       "  </thead>\n",
       "  <tbody>\n",
       "    <tr>\n",
       "      <th>0</th>\n",
       "      <td>srushti.11</td>\n",
       "      <td>97</td>\n",
       "      <td>F</td>\n",
       "      <td>mumbai</td>\n",
       "      <td>19</td>\n",
       "      <td>topfans</td>\n",
       "      <td>1</td>\n",
       "      <td>1</td>\n",
       "    </tr>\n",
       "    <tr>\n",
       "      <th>1</th>\n",
       "      <td>rupaldinkar</td>\n",
       "      <td>95</td>\n",
       "      <td>F</td>\n",
       "      <td>pune</td>\n",
       "      <td>32</td>\n",
       "      <td>topfans</td>\n",
       "      <td>2</td>\n",
       "      <td>1</td>\n",
       "    </tr>\n",
       "    <tr>\n",
       "      <th>2</th>\n",
       "      <td>rushidate</td>\n",
       "      <td>94</td>\n",
       "      <td>M</td>\n",
       "      <td>pune</td>\n",
       "      <td>45</td>\n",
       "      <td>topfans</td>\n",
       "      <td>2</td>\n",
       "      <td>0</td>\n",
       "    </tr>\n",
       "    <tr>\n",
       "      <th>3</th>\n",
       "      <td>rachalian._</td>\n",
       "      <td>93</td>\n",
       "      <td>F</td>\n",
       "      <td>bengaluru</td>\n",
       "      <td>22</td>\n",
       "      <td>topfans</td>\n",
       "      <td>3</td>\n",
       "      <td>1</td>\n",
       "    </tr>\n",
       "    <tr>\n",
       "      <th>4</th>\n",
       "      <td>_.sonalika._</td>\n",
       "      <td>91</td>\n",
       "      <td>F</td>\n",
       "      <td>mumbai</td>\n",
       "      <td>34</td>\n",
       "      <td>topfans</td>\n",
       "      <td>1</td>\n",
       "      <td>1</td>\n",
       "    </tr>\n",
       "  </tbody>\n",
       "</table>\n",
       "</div>"
      ],
      "text/plain": [
       "              id  count gender   location  age    label  locationcode  \\\n",
       "0     srushti.11     97      F     mumbai   19  topfans             1   \n",
       "1    rupaldinkar     95      F       pune   32  topfans             2   \n",
       "2      rushidate     94      M       pune   45  topfans             2   \n",
       "3   rachalian._      93      F  bengaluru   22  topfans             3   \n",
       "4  _.sonalika._      91      F     mumbai   34  topfans             1   \n",
       "\n",
       "   gendercode  \n",
       "0           1  \n",
       "1           1  \n",
       "2           0  \n",
       "3           1  \n",
       "4           1  "
      ]
     },
     "execution_count": 1,
     "metadata": {},
     "output_type": "execute_result"
    }
   ],
   "source": [
    "import pandas as pd\n",
    "df=pd.read_csv(\"instadata.csv\")\n",
    "\n",
    "df.head()\n"
   ]
  },
  {
   "cell_type": "code",
   "execution_count": 2,
   "id": "6097a896-264a-4d24-944e-58e0545b3296",
   "metadata": {},
   "outputs": [],
   "source": [
    "df1 = df"
   ]
  },
  {
   "cell_type": "code",
   "execution_count": 3,
   "id": "3bd7a71b-b28f-4759-a6e9-3e2ab8da6b90",
   "metadata": {},
   "outputs": [
    {
     "data": {
      "text/html": [
       "<div>\n",
       "<style scoped>\n",
       "    .dataframe tbody tr th:only-of-type {\n",
       "        vertical-align: middle;\n",
       "    }\n",
       "\n",
       "    .dataframe tbody tr th {\n",
       "        vertical-align: top;\n",
       "    }\n",
       "\n",
       "    .dataframe thead th {\n",
       "        text-align: right;\n",
       "    }\n",
       "</style>\n",
       "<table border=\"1\" class=\"dataframe\">\n",
       "  <thead>\n",
       "    <tr style=\"text-align: right;\">\n",
       "      <th></th>\n",
       "      <th>id</th>\n",
       "      <th>count</th>\n",
       "      <th>gender</th>\n",
       "      <th>location</th>\n",
       "      <th>age</th>\n",
       "      <th>label</th>\n",
       "      <th>locationcode</th>\n",
       "      <th>gendercode</th>\n",
       "    </tr>\n",
       "  </thead>\n",
       "  <tbody>\n",
       "    <tr>\n",
       "      <th>0</th>\n",
       "      <td>srushti.11</td>\n",
       "      <td>97</td>\n",
       "      <td>F</td>\n",
       "      <td>mumbai</td>\n",
       "      <td>19</td>\n",
       "      <td>more interested</td>\n",
       "      <td>1</td>\n",
       "      <td>1</td>\n",
       "    </tr>\n",
       "    <tr>\n",
       "      <th>1</th>\n",
       "      <td>rupaldinkar</td>\n",
       "      <td>95</td>\n",
       "      <td>F</td>\n",
       "      <td>pune</td>\n",
       "      <td>32</td>\n",
       "      <td>more interested</td>\n",
       "      <td>2</td>\n",
       "      <td>1</td>\n",
       "    </tr>\n",
       "    <tr>\n",
       "      <th>2</th>\n",
       "      <td>rushidate</td>\n",
       "      <td>94</td>\n",
       "      <td>M</td>\n",
       "      <td>pune</td>\n",
       "      <td>45</td>\n",
       "      <td>more interested</td>\n",
       "      <td>2</td>\n",
       "      <td>0</td>\n",
       "    </tr>\n",
       "    <tr>\n",
       "      <th>3</th>\n",
       "      <td>rachalian._</td>\n",
       "      <td>93</td>\n",
       "      <td>F</td>\n",
       "      <td>bengaluru</td>\n",
       "      <td>22</td>\n",
       "      <td>more interested</td>\n",
       "      <td>3</td>\n",
       "      <td>1</td>\n",
       "    </tr>\n",
       "    <tr>\n",
       "      <th>4</th>\n",
       "      <td>_.sonalika._</td>\n",
       "      <td>91</td>\n",
       "      <td>F</td>\n",
       "      <td>mumbai</td>\n",
       "      <td>34</td>\n",
       "      <td>more interested</td>\n",
       "      <td>1</td>\n",
       "      <td>1</td>\n",
       "    </tr>\n",
       "  </tbody>\n",
       "</table>\n",
       "</div>"
      ],
      "text/plain": [
       "              id  count gender   location  age            label  locationcode  \\\n",
       "0     srushti.11     97      F     mumbai   19  more interested             1   \n",
       "1    rupaldinkar     95      F       pune   32  more interested             2   \n",
       "2      rushidate     94      M       pune   45  more interested             2   \n",
       "3   rachalian._      93      F  bengaluru   22  more interested             3   \n",
       "4  _.sonalika._      91      F     mumbai   34  more interested             1   \n",
       "\n",
       "   gendercode  \n",
       "0           1  \n",
       "1           1  \n",
       "2           0  \n",
       "3           1  \n",
       "4           1  "
      ]
     },
     "execution_count": 3,
     "metadata": {},
     "output_type": "execute_result"
    }
   ],
   "source": [
    "df1['label'] = df1['label'].replace({\n",
    "    \"topfans\": \"more interested\",\n",
    "    \"fans\": \"less interested\"\n",
    "})\n",
    "df1.head()"
   ]
  },
  {
   "cell_type": "code",
   "execution_count": 4,
   "id": "a6005718-d79b-4314-8337-c83d0c6d31eb",
   "metadata": {},
   "outputs": [],
   "source": [
    "x=df1.drop(\"label\", axis=1)\n",
    "x=x.drop(\"location\", axis=1)\n",
    "x=x.drop(\"gender\",axis=1)\n",
    "x=x.drop(\"id\",axis=1)\n",
    "y=df1[\"label\"]"
   ]
  },
  {
   "cell_type": "code",
   "execution_count": 5,
   "id": "006ce19b-bb54-4cde-974f-92b77ea08051",
   "metadata": {},
   "outputs": [],
   "source": [
    "from sklearn.model_selection import train_test_split\n",
    "x_train,x_test,y_train, y_test = train_test_split(x,y, test_size=0.4)\n",
    "z=list(y_train)\n",
    "ytest=list(y_test)"
   ]
  },
  {
   "cell_type": "code",
   "execution_count": 6,
   "id": "a5547686-d16f-444d-9861-2c218e204c54",
   "metadata": {},
   "outputs": [
    {
     "data": {
      "text/plain": [
       "['less interested',\n",
       " 'less interested',\n",
       " 'neutral',\n",
       " 'more interested',\n",
       " 'more interested',\n",
       " 'more interested',\n",
       " 'neutral',\n",
       " 'more interested',\n",
       " 'neutral',\n",
       " 'neutral',\n",
       " 'less interested',\n",
       " 'more interested']"
      ]
     },
     "execution_count": 6,
     "metadata": {},
     "output_type": "execute_result"
    }
   ],
   "source": [
    "from sklearn.svm import SVC\n",
    "from sklearn.metrics import accuracy_score\n",
    "\n",
    "svclassifier = SVC(kernel='linear')\n",
    "svclassifier.fit(x_train,z)\n",
    "output=list(svclassifier.predict(x_test))\n",
    "output"
   ]
  },
  {
   "cell_type": "code",
   "execution_count": 7,
   "id": "ca33ed13-59c5-4702-91e4-f4e98e9763dd",
   "metadata": {},
   "outputs": [
    {
     "name": "stdout",
     "output_type": "stream",
     "text": [
      "Accuracy score= 0.9166666666666666\n"
     ]
    }
   ],
   "source": [
    "accs=accuracy_score(ytest,output)\n",
    "print(\"Accuracy score=\", accs)"
   ]
  },
  {
   "cell_type": "code",
   "execution_count": 8,
   "id": "2f48b7b1-5f83-43d3-b93d-38fc1b8601b5",
   "metadata": {},
   "outputs": [
    {
     "data": {
      "text/plain": [
       "['neutral',\n",
       " 'more interested',\n",
       " 'neutral',\n",
       " 'more interested',\n",
       " 'less interested',\n",
       " 'neutral',\n",
       " 'neutral',\n",
       " 'neutral',\n",
       " 'more interested',\n",
       " 'more interested']"
      ]
     },
     "execution_count": 8,
     "metadata": {},
     "output_type": "execute_result"
    }
   ],
   "source": [
    "df2=pd.read_csv(\"instatest.csv\")\n",
    "\n",
    "p=df2.drop(\"location\", axis=1)\n",
    "p=p.drop(\"gender\",axis=1)\n",
    "p=p.drop(\"id\",axis=1)\n",
    "\n",
    "output=list(svclassifier.predict(p))\n",
    "predicted=list(output)\n",
    "predicted"
   ]
  },
  {
   "cell_type": "code",
   "execution_count": 9,
   "id": "e7bf8ac9-bbf0-42da-9af1-9399d02f6e97",
   "metadata": {},
   "outputs": [
    {
     "name": "stdout",
     "output_type": "stream",
     "text": [
      "id       class\n",
      "srishtinene_    ------>   neutral\n",
      "gautammannan    ------>   more interested\n",
      "samrudhiyeginwar    ------>   neutral\n",
      "shivinidixit_    ------>   more interested\n",
      "poorvz_    ------>   less interested\n",
      "travuersa29    ------>   neutral\n",
      "rahulsingh0512    ------>   neutral\n",
      "shreyan_1629    ------>   neutral\n",
      "bhavyaguptaa_    ------>   more interested\n",
      "_atharva    ------>   more interested\n"
     ]
    }
   ],
   "source": [
    "ids=list(df2[\"id\"])\n",
    "print(\"id       class\");\n",
    "\n",
    "for x in range(0,len(predicted)):\n",
    "    print(ids[x] +\"    ------>   \" +predicted[x])"
   ]
  },
  {
   "cell_type": "code",
   "execution_count": 10,
   "id": "fca94455-e88b-494b-a3ec-8d2d8f5f6c23",
   "metadata": {},
   "outputs": [
    {
     "name": "stdout",
     "output_type": "stream",
     "text": [
      "Defaulting to user installation because normal site-packages is not writeable\n",
      "Requirement already satisfied: shap in c:\\users\\91720\\appdata\\roaming\\python\\python311\\site-packages (0.44.1)\n",
      "Requirement already satisfied: numpy in c:\\users\\91720\\appdata\\roaming\\python\\python311\\site-packages (from shap) (1.26.2)\n",
      "Requirement already satisfied: scipy in c:\\users\\91720\\appdata\\roaming\\python\\python311\\site-packages (from shap) (1.10.1)\n",
      "Requirement already satisfied: scikit-learn in c:\\users\\91720\\appdata\\roaming\\python\\python311\\site-packages (from shap) (1.4.0)\n",
      "Requirement already satisfied: pandas in c:\\users\\91720\\appdata\\roaming\\python\\python311\\site-packages (from shap) (1.5.2)\n",
      "Requirement already satisfied: tqdm>=4.27.0 in c:\\users\\91720\\appdata\\roaming\\python\\python311\\site-packages (from shap) (4.65.0)\n",
      "Requirement already satisfied: packaging>20.9 in c:\\users\\91720\\appdata\\roaming\\python\\python311\\site-packages (from shap) (21.3)\n",
      "Requirement already satisfied: slicer==0.0.7 in c:\\users\\91720\\appdata\\roaming\\python\\python311\\site-packages (from shap) (0.0.7)\n",
      "Requirement already satisfied: numba in c:\\users\\91720\\appdata\\roaming\\python\\python311\\site-packages (from shap) (0.59.0)\n",
      "Requirement already satisfied: cloudpickle in c:\\users\\91720\\appdata\\roaming\\python\\python311\\site-packages (from shap) (3.0.0)\n",
      "Requirement already satisfied: pyparsing!=3.0.5,>=2.0.2 in c:\\users\\91720\\appdata\\roaming\\python\\python311\\site-packages (from packaging>20.9->shap) (3.0.9)\n",
      "Requirement already satisfied: colorama in c:\\users\\91720\\appdata\\roaming\\python\\python311\\site-packages (from tqdm>=4.27.0->shap) (0.4.6)\n",
      "Requirement already satisfied: llvmlite<0.43,>=0.42.0dev0 in c:\\users\\91720\\appdata\\roaming\\python\\python311\\site-packages (from numba->shap) (0.42.0)\n",
      "Requirement already satisfied: python-dateutil>=2.8.1 in c:\\users\\91720\\appdata\\roaming\\python\\python311\\site-packages (from pandas->shap) (2.8.2)\n",
      "Requirement already satisfied: pytz>=2020.1 in c:\\users\\91720\\appdata\\roaming\\python\\python311\\site-packages (from pandas->shap) (2022.6)\n",
      "Requirement already satisfied: joblib>=1.2.0 in c:\\users\\91720\\appdata\\roaming\\python\\python311\\site-packages (from scikit-learn->shap) (1.3.2)\n",
      "Requirement already satisfied: threadpoolctl>=2.0.0 in c:\\users\\91720\\appdata\\roaming\\python\\python311\\site-packages (from scikit-learn->shap) (3.2.0)\n",
      "Requirement already satisfied: six>=1.5 in c:\\users\\91720\\appdata\\roaming\\python\\python311\\site-packages (from python-dateutil>=2.8.1->pandas->shap) (1.16.0)\n"
     ]
    },
    {
     "name": "stderr",
     "output_type": "stream",
     "text": [
      "\n",
      "[notice] A new release of pip is available: 23.3.2 -> 24.0\n",
      "[notice] To update, run: python.exe -m pip install --upgrade pip\n"
     ]
    }
   ],
   "source": [
    "!pip install shap"
   ]
  },
  {
   "cell_type": "code",
   "execution_count": 11,
   "id": "5fa2d76d-55c0-4f50-9ad5-01d05bfefbeb",
   "metadata": {},
   "outputs": [
    {
     "data": {
      "image/png": "[encoded data removed]",
      "text/plain": [
       "<Figure size 800x310 with 1 Axes>"
      ]
     },
     "metadata": {},
     "output_type": "display_data"
    }
   ],
   "source": [
    "import pandas as pd\n",
    "from sklearn.model_selection import train_test_split\n",
    "from sklearn.ensemble import RandomForestClassifier\n",
    "import shap\n",
    "\n",
    "# Assuming df is your DataFrame\n",
    "# Perform necessary data preprocessing and feature engineering here\n",
    "\n",
    "# Split the data into features (X) and target (y)\n",
    "X = df1[['count', 'gendercode', 'locationcode', 'age']]\n",
    "y = df1['label']\n",
    "\n",
    "# Split the data into training and testing sets\n",
    "X_train, X_test, y_train, y_test = train_test_split(X, y, test_size=0.2, random_state=42)\n",
    "\n",
    "# Train a Random Forest classifier\n",
    "model = RandomForestClassifier()\n",
    "model.fit(X_train, y_train)\n",
    "\n",
    "# Use SHAP values for interpretability\n",
    "explainer = shap.TreeExplainer(model)\n",
    "shap_values = explainer.shap_values(X_test)\n",
    "\n",
    "# Visualize feature importance using SHAP summary_plot\n",
    "shap.summary_plot(shap_values, X_test, plot_type=\"bar\")\n"
   ]
  },
  {
   "cell_type": "code",
   "execution_count": 14,
   "id": "cd530a4c-9894-4d7c-be90-ddcaaa3e2516",
   "metadata": {},
   "outputs": [],
   "source": [
    "import pickle\n",
    "with open('.pickle','wb') as f:\n",
    "    pickle.dump(model,f)"
   ]
  },
  {
   "cell_type": "code",
   "execution_count": 13,
   "id": "b79df3ed-ba3d-4c40-b8ef-dbaaa269e925",
   "metadata": {},
   "outputs": [
    {
     "data": {
      "text/plain": [
       "1.0"
      ]
     },
     "execution_count": 13,
     "metadata": {},
     "output_type": "execute_result"
    }
   ],
   "source": [
    "model.score(X_test,y_test)"
   ]
  },
  {
   "cell_type": "code",
   "execution_count": null,
   "id": "94e181d6-de7d-4328-b6c1-143b10213e90",
   "metadata": {},
   "outputs": [],
   "source": []
  }
 ],
 "metadata": {
  "kernelspec": {
   "display_name": "Python 3 (ipykernel)",
   "language": "python",
   "name": "python3"
  },
  "language_info": {
   "codemirror_mode": {
    "name": "ipython",
    "version": 3
   },
   "file_extension": ".py",
   "mimetype": "text/x-python",
   "name": "python",
   "nbconvert_exporter": "python",
   "pygments_lexer": "ipython3",
   "version": "3.11.5"
  }
 },
 "nbformat": 4,
 "nbformat_minor": 5
}
